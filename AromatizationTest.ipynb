{
  "nbformat": 4,
  "nbformat_minor": 0,
  "metadata": {
    "colab": {
      "name": "AromatizationTest.ipynb",
      "provenance": [],
      "mount_file_id": "1OCZo5iLyUg7vZc9MsrzJAFCJ-z9HgAW9",
      "authorship_tag": "ABX9TyOifqyPEGWOCHa0n+qIkkYL",
      "include_colab_link": true
    },
    "kernelspec": {
      "name": "python3",
      "display_name": "Python 3"
    }
  },
  "cells": [
    {
      "cell_type": "markdown",
      "metadata": {
        "id": "view-in-github",
        "colab_type": "text"
      },
      "source": [
        "<a href=\"https://colab.research.google.com/github/seyonechithrananda/DeepBind_with_Tensorflow/blob/master/AromatizationTest.ipynb\" target=\"_parent\"><img src=\"https://colab.research.google.com/assets/colab-badge.svg\" alt=\"Open In Colab\"/></a>"
      ]
    },
    {
      "cell_type": "markdown",
      "metadata": {
        "id": "2InSeLj3zsT0",
        "colab_type": "text"
      },
      "source": [
        "CHECKING CANONICAL SMILES"
      ]
    },
    {
      "cell_type": "code",
      "metadata": {
        "id": "0ssL1rKFM1b8",
        "colab_type": "code",
        "colab": {
          "base_uri": "https://localhost:8080/",
          "height": 1000
        },
        "outputId": "f1ef16c1-dcd5-4472-e20f-70d24a0e6c03"
      },
      "source": [
        "!wget -c https://repo.anaconda.com/miniconda/Miniconda3-latest-Linux-x86_64.sh\n",
        "!chmod +x Miniconda3-latest-Linux-x86_64.sh\n",
        "!bash ./Miniconda3-latest-Linux-x86_64.sh -b -f -p /usr/local\n",
        "!conda install -y -c deepchem -c rdkit -c conda-forge -c omnia deepchem-gpu=2.3.0\n",
        "import sys\n",
        "sys.path.append('/usr/local/lib/python3.7/site-packages/')\n"
      ],
      "execution_count": 1,
      "outputs": [
        {
          "output_type": "stream",
          "text": [
            "--2020-06-18 21:52:23--  https://repo.anaconda.com/miniconda/Miniconda3-latest-Linux-x86_64.sh\n",
            "Resolving repo.anaconda.com (repo.anaconda.com)... 104.16.131.3, 104.16.130.3, 2606:4700::6810:8303, ...\n",
            "Connecting to repo.anaconda.com (repo.anaconda.com)|104.16.131.3|:443... connected.\n",
            "HTTP request sent, awaiting response... 200 OK\n",
            "Length: 88867207 (85M) [application/x-sh]\n",
            "Saving to: ‘Miniconda3-latest-Linux-x86_64.sh’\n",
            "\n",
            "Miniconda3-latest-L 100%[===================>]  84.75M   119MB/s    in 0.7s    \n",
            "\n",
            "2020-06-18 21:52:24 (119 MB/s) - ‘Miniconda3-latest-Linux-x86_64.sh’ saved [88867207/88867207]\n",
            "\n",
            "PREFIX=/usr/local\n",
            "Unpacking payload ...\n",
            "Collecting package metadata (current_repodata.json): - \b\b\\ \b\bdone\n",
            "Solving environment: / \b\b- \b\bdone\n",
            "\n",
            "## Package Plan ##\n",
            "\n",
            "  environment location: /usr/local\n",
            "\n",
            "  added / updated specs:\n",
            "    - _libgcc_mutex==0.1=main\n",
            "    - ca-certificates==2020.1.1=0\n",
            "    - certifi==2020.4.5.1=py37_0\n",
            "    - cffi==1.14.0=py37he30daa8_1\n",
            "    - chardet==3.0.4=py37_1003\n",
            "    - conda-package-handling==1.6.1=py37h7b6447c_0\n",
            "    - conda==4.8.3=py37_0\n",
            "    - cryptography==2.9.2=py37h1ba5d50_0\n",
            "    - idna==2.9=py_1\n",
            "    - ld_impl_linux-64==2.33.1=h53a641e_7\n",
            "    - libedit==3.1.20181209=hc058e9b_0\n",
            "    - libffi==3.3=he6710b0_1\n",
            "    - libgcc-ng==9.1.0=hdf63c60_0\n",
            "    - libstdcxx-ng==9.1.0=hdf63c60_0\n",
            "    - ncurses==6.2=he6710b0_1\n",
            "    - openssl==1.1.1g=h7b6447c_0\n",
            "    - pip==20.0.2=py37_3\n",
            "    - pycosat==0.6.3=py37h7b6447c_0\n",
            "    - pycparser==2.20=py_0\n",
            "    - pyopenssl==19.1.0=py37_0\n",
            "    - pysocks==1.7.1=py37_0\n",
            "    - python==3.7.7=hcff3b4d_5\n",
            "    - readline==8.0=h7b6447c_0\n",
            "    - requests==2.23.0=py37_0\n",
            "    - ruamel_yaml==0.15.87=py37h7b6447c_0\n",
            "    - setuptools==46.4.0=py37_0\n",
            "    - six==1.14.0=py37_0\n",
            "    - sqlite==3.31.1=h62c20be_1\n",
            "    - tk==8.6.8=hbc83047_0\n",
            "    - tqdm==4.46.0=py_0\n",
            "    - urllib3==1.25.8=py37_0\n",
            "    - wheel==0.34.2=py37_0\n",
            "    - xz==5.2.5=h7b6447c_0\n",
            "    - yaml==0.1.7=had09818_2\n",
            "    - zlib==1.2.11=h7b6447c_3\n",
            "\n",
            "\n",
            "The following NEW packages will be INSTALLED:\n",
            "\n",
            "  _libgcc_mutex      pkgs/main/linux-64::_libgcc_mutex-0.1-main\n",
            "  ca-certificates    pkgs/main/linux-64::ca-certificates-2020.1.1-0\n",
            "  certifi            pkgs/main/linux-64::certifi-2020.4.5.1-py37_0\n",
            "  cffi               pkgs/main/linux-64::cffi-1.14.0-py37he30daa8_1\n",
            "  chardet            pkgs/main/linux-64::chardet-3.0.4-py37_1003\n",
            "  conda              pkgs/main/linux-64::conda-4.8.3-py37_0\n",
            "  conda-package-han~ pkgs/main/linux-64::conda-package-handling-1.6.1-py37h7b6447c_0\n",
            "  cryptography       pkgs/main/linux-64::cryptography-2.9.2-py37h1ba5d50_0\n",
            "  idna               pkgs/main/noarch::idna-2.9-py_1\n",
            "  ld_impl_linux-64   pkgs/main/linux-64::ld_impl_linux-64-2.33.1-h53a641e_7\n",
            "  libedit            pkgs/main/linux-64::libedit-3.1.20181209-hc058e9b_0\n",
            "  libffi             pkgs/main/linux-64::libffi-3.3-he6710b0_1\n",
            "  libgcc-ng          pkgs/main/linux-64::libgcc-ng-9.1.0-hdf63c60_0\n",
            "  libstdcxx-ng       pkgs/main/linux-64::libstdcxx-ng-9.1.0-hdf63c60_0\n",
            "  ncurses            pkgs/main/linux-64::ncurses-6.2-he6710b0_1\n",
            "  openssl            pkgs/main/linux-64::openssl-1.1.1g-h7b6447c_0\n",
            "  pip                pkgs/main/linux-64::pip-20.0.2-py37_3\n",
            "  pycosat            pkgs/main/linux-64::pycosat-0.6.3-py37h7b6447c_0\n",
            "  pycparser          pkgs/main/noarch::pycparser-2.20-py_0\n",
            "  pyopenssl          pkgs/main/linux-64::pyopenssl-19.1.0-py37_0\n",
            "  pysocks            pkgs/main/linux-64::pysocks-1.7.1-py37_0\n",
            "  python             pkgs/main/linux-64::python-3.7.7-hcff3b4d_5\n",
            "  readline           pkgs/main/linux-64::readline-8.0-h7b6447c_0\n",
            "  requests           pkgs/main/linux-64::requests-2.23.0-py37_0\n",
            "  ruamel_yaml        pkgs/main/linux-64::ruamel_yaml-0.15.87-py37h7b6447c_0\n",
            "  setuptools         pkgs/main/linux-64::setuptools-46.4.0-py37_0\n",
            "  six                pkgs/main/linux-64::six-1.14.0-py37_0\n",
            "  sqlite             pkgs/main/linux-64::sqlite-3.31.1-h62c20be_1\n",
            "  tk                 pkgs/main/linux-64::tk-8.6.8-hbc83047_0\n",
            "  tqdm               pkgs/main/noarch::tqdm-4.46.0-py_0\n",
            "  urllib3            pkgs/main/linux-64::urllib3-1.25.8-py37_0\n",
            "  wheel              pkgs/main/linux-64::wheel-0.34.2-py37_0\n",
            "  xz                 pkgs/main/linux-64::xz-5.2.5-h7b6447c_0\n",
            "  yaml               pkgs/main/linux-64::yaml-0.1.7-had09818_2\n",
            "  zlib               pkgs/main/linux-64::zlib-1.2.11-h7b6447c_3\n",
            "\n",
            "\n",
            "Preparing transaction: | \b\b/ \b\b- \b\bdone\n",
            "Executing transaction: | \b\b/ \b\b- \b\b\\ \b\b| \b\b/ \b\b- \b\b\\ \b\b| \b\b/ \b\b- \b\b\\ \b\b| \b\b/ \b\bdone\n",
            "installation finished.\n",
            "WARNING:\n",
            "    You currently have a PYTHONPATH environment variable set. This may cause\n",
            "    unexpected behavior when running the Python interpreter in Miniconda3.\n",
            "    For best results, please verify that your PYTHONPATH only points to\n",
            "    directories of packages that are compatible with the Python interpreter\n",
            "    in Miniconda3: /usr/local\n",
            "Collecting package metadata (current_repodata.json): - \b\b\\ \b\b| \b\b/ \b\b- \b\b\\ \b\b| \b\b/ \b\b- \b\b\\ \b\b| \b\b/ \b\b- \b\b\\ \b\b| \b\b/ \b\b- \b\b\\ \b\b| \b\b/ \b\b- \b\b\\ \b\b| \b\b/ \b\b- \b\b\\ \b\b| \b\b/ \b\b- \b\b\\ \b\b| \b\b/ \b\b- \b\b\\ \b\b| \b\b/ \b\b- \b\b\\ \b\b| \b\b/ \b\b- \b\b\\ \b\b| \b\b/ \b\b- \b\b\\ \b\b| \b\b/ \b\b- \b\b\\ \b\b| \b\b/ \b\b- \b\b\\ \b\b| \b\b/ \b\b- \b\b\\ \b\b| \b\b/ \b\b- \b\b\\ \b\b| \b\b/ \b\b- \b\b\\ \b\b| \b\b/ \b\b- \b\b\\ \b\b| \b\b/ \b\b- \b\b\\ \b\b| \b\b/ \b\b- \b\bdone\n",
            "Solving environment: | \b\b/ \b\b- \b\b\\ \b\b| \b\b/ \b\b- \b\b\\ \b\b| \b\b/ \b\b- \b\b\\ \b\b| \b\b/ \b\b- \b\b\\ \b\b| \b\b/ \b\b- \b\b\\ \b\b| \b\b/ \b\b- \b\b\\ \b\b| \b\b/ \b\b- \b\b\\ \b\b| \b\b/ \b\b- \b\b\\ \b\b| \b\b/ \b\b- \b\b\\ \b\b| \b\b/ \b\b- \b\b\\ \b\b| \b\b/ \b\b- \b\b\\ \b\b| \b\b/ \b\b- \b\b\\ \b\b| \b\b/ \b\b- \b\b\\ \b\b| \b\b/ \b\b- \b\b\\ \b\b| \b\b/ \b\b- \b\b\\ \b\b| \b\b/ \b\b- \b\b\\ \b\b| \b\b/ \b\b- \b\b\\ \b\b| \b\b/ \b\b- \b\bfailed with initial frozen solve. Retrying with flexible solve.\n",
            "Solving environment: | \b\b/ \b\b- \b\b\\ \b\b| \b\b/ \b\b- \b\b\\ \b\b| \b\b/ \b\b- \b\b\\ \b\b| \b\b/ \b\b- \b\b\\ \b\b| \b\b/ \b\b- \b\b\\ \b\b| \b\b/ \b\b- \b\b\\ \b\b| \b\b/ \b\b- \b\b\\ \b\b| \b\b/ \b\b- \b\b\\ \b\b| \b\b/ \b\b- \b\b\\ \b\b| \b\b/ \b\b- \b\b\\ \b\b| \b\b/ \b\b- \b\b\\ \b\b| \b\b/ \b\b- \b\b\\ \b\b| \b\b/ \b\b- \b\b\\ \b\b| \b\b/ \b\b- \b\b\\ \b\b| \b\b/ \b\b- \b\b\\ \b\b| \b\b/ \b\b- \b\b\\ \b\b| \b\b/ \b\b- \b\b\\ \b\b| \b\b/ \b\b- \b\b\\ \b\b| \b\b/ \b\b- \b\b\\ \b\b| \b\b/ \b\b- \b\b\\ \b\b| \b\b/ \b\b- \b\b\\ \b\b| \b\b/ \b\b- \b\b\\ \b\bfailed with repodata from current_repodata.json, will retry with next repodata source.\n",
            "Collecting package metadata (repodata.json): / \b\b- \b\b\\ \b\b| \b\b/ \b\b- \b\b\\ \b\b| \b\b/ \b\b- \b\b\\ \b\b| \b\b/ \b\b- \b\b\\ \b\b| \b\b/ \b\b- \b\b\\ \b\b| \b\b/ \b\b- \b\b\\ \b\b| \b\b/ \b\b- \b\b\\ \b\b| \b\b/ \b\b- \b\b\\ \b\b| \b\b/ \b\b- \b\b\\ \b\b| \b\b/ \b\b- \b\b\\ \b\b| \b\b/ \b\b- \b\b\\ \b\b| \b\b/ \b\b- \b\b\\ \b\b| \b\b/ \b\b- \b\b\\ \b\b| \b\b/ \b\b- \b\b\\ \b\b| \b\b/ \b\b- \b\b\\ \b\b| \b\b/ \b\b- \b\b\\ \b\b| \b\b/ \b\b- \b\b\\ \b\b| \b\b/ \b\b- \b\b\\ \b\b| \b\b/ \b\b- \b\b\\ \b\b| \b\b/ \b\b- \b\b\\ \b\b| \b\b/ \b\b- \b\b\\ \b\b| \b\b/ \b\b- \b\b\\ \b\b| \b\b/ \b\b- \b\b\\ \b\b| \b\b/ \b\b- \b\b\\ \b\b| \b\b/ \b\b- \b\b\\ \b\b| \b\b/ \b\b- \b\b\\ \b\b| \b\b/ \b\b- \b\b\\ \b\b| \b\b/ \b\b- \b\b\\ \b\b| \b\b/ \b\b- \b\b\\ \b\b| \b\b/ \b\b- \b\b\\ \b\b| \b\b/ \b\b- \b\b\\ \b\b| \b\b/ \b\b- \b\b\\ \b\b| \b\b/ \b\b- \b\b\\ \b\b| \b\b/ \b\b- \b\b\\ \b\b| \b\b/ \b\b- \b\b\\ \b\b| \b\b/ \b\b- \b\b\\ \b\b| \b\b/ \b\b- \b\b\\ \b\b| \b\b/ \b\b- \b\b\\ \b\b| \b\b/ \b\b- \b\b\\ \b\b| \b\b/ \b\b- \b\b\\ \b\b| \b\b/ \b\b- \b\b\\ \b\b| \b\b/ \b\b- \b\b\\ \b\b| \b\b/ \b\b- \b\b\\ \b\b| \b\b/ \b\b- \b\b\\ \b\b| \b\b/ \b\b- \b\b\\ \b\b| \b\b/ \b\b- \b\b\\ \b\b| \b\b/ \b\b- \b\b\\ \b\b| \b\b/ \b\bdone\n",
            "Solving environment: \\ \b\b| \b\b/ \b\b- \b\b\\ \b\b| \b\b/ \b\b- \b\b\\ \b\b| \b\b/ \b\b- \b\b\\ \b\b| \b\b/ \b\b- \b\b\\ \b\b| \b\b/ \b\b- \b\b\\ \b\b| \b\b/ \b\b- \b\b\\ \b\b| \b\b/ \b\b- \b\b\\ \b\b| \b\b/ \b\b- \b\b\\ \b\b| \b\b/ \b\b- \b\b\\ \b\b| \b\b/ \b\b- \b\b\\ \b\b| \b\b/ \b\b- \b\b\\ \b\b| \b\b/ \b\b- \b\b\\ \b\b| \b\b/ \b\b- \b\b\\ \b\b| \b\b/ \b\b- \b\b\\ \b\b| \b\b/ \b\b- \b\b\\ \b\b| \b\b/ \b\b- \b\b\\ \b\b| \b\b/ \b\b- \b\b\\ \b\b| \b\b/ \b\b- \b\b\\ \b\b| \b\b/ \b\b- \b\b\\ \b\b| \b\b/ \b\b- \b\b\\ \b\b| \b\b/ \b\b- \b\b\\ \b\b| \b\b/ \b\b- \b\b\\ \b\b| \b\b/ \b\b- \b\b\\ \b\b| \b\b/ \b\b- \b\b\\ \b\b| \b\b/ \b\b- \b\b\\ \b\b| \b\b/ \b\b- \b\b\\ \b\b| \b\b/ \b\b- \b\b\\ \b\b| \b\b/ \b\b- \b\b\\ \b\b| \b\b/ \b\b- \b\b\\ \b\b| \b\b/ \b\b- \b\b\\ \b\b| \b\b/ \b\b- \b\b\\ \b\b| \b\b/ \b\b- \b\b\\ \b\b| \b\b/ \b\b- \b\b\\ \b\b| \b\b/ \b\b- \b\b\\ \b\b| \b\b/ \b\b- \b\b\\ \b\b| \b\b/ \b\b- \b\b\\ \b\b| \b\b/ \b\b- \b\b\\ \b\b| \b\b/ \b\b- \b\b\\ \b\b| \b\b/ \b\b- \b\b\\ \b\b| \b\b/ \b\b- \b\b\\ \b\b| \b\b/ \b\b- \b\b\\ \b\b| \b\b/ \b\b- \b\b\\ \b\b| \b\b/ \b\b- \b\b\\ \b\b| \b\b/ \b\b- \b\b\\ \b\b| \b\b/ \b\b- \b\b\\ \b\b| \b\b/ \b\b- \b\b\\ \b\b| \b\b/ \b\b- \b\b\\ \b\b| \b\b/ \b\b- \b\b\\ \b\b| \b\b/ \b\b- \b\b\\ \b\b| \b\b/ \b\b- \b\b\\ \b\b| \b\b/ \b\b- \b\b\\ \b\b| \b\b/ \b\b- \b\b\\ \b\b| \b\b/ \b\b- \b\b\\ \b\b| \b\b/ \b\b- \b\b\\ \b\b| \b\b/ \b\b- \b\b\\ \b\b| \b\b/ \b\b- \b\b\\ \b\b| \b\b/ \b\b- \b\b\\ \b\b| \b\b/ \b\b- \b\b\\ \b\b| \b\b/ \b\b- \b\b\\ \b\b| \b\b/ \b\b- \b\b\\ \b\b| \b\b/ \b\b- \b\b\\ \b\b| \b\b/ \b\b- \b\b\\ \b\b| \b\b/ \b\b- \b\b\\ \b\b| \b\b/ \b\b- \b\b\\ \b\b| \b\b/ \b\b- \b\b\\ \b\b| \b\b/ \b\b- \b\b\\ \b\b| \b\b/ \b\b- \b\b\\ \b\b| \b\b/ \b\b- \b\b\\ \b\b| \b\b/ \b\b- \b\b\\ \b\b| \b\b/ \b\b- \b\b\\ \b\b| \b\b/ \b\b- \b\b\\ \b\b| \b\b/ \b\b- \b\b\\ \b\b| \b\b/ \b\b- \b\b\\ \b\b| \b\b/ \b\b- \b\b\\ \b\b| \b\b/ \b\b- \b\b\\ \b\b| \b\b/ \b\b- \b\b\\ \b\b| \b\b/ \b\b- \b\b\\ \b\b| \b\b/ \b\b- \b\b\\ \b\b| \b\b/ \b\b- \b\b\\ \b\b| \b\b/ \b\b- \b\b\\ \b\b| \b\b/ \b\b- \b\b\\ \b\b| \b\b/ \b\b- \b\b\\ \b\b| \b\b/ \b\b- \b\bdone\n",
            "\n",
            "## Package Plan ##\n",
            "\n",
            "  environment location: /usr/local\n",
            "\n",
            "  added / updated specs:\n",
            "    - deepchem-gpu=2.3.0\n",
            "\n",
            "\n",
            "The following packages will be downloaded:\n",
            "\n",
            "    package                    |            build\n",
            "    ---------------------------|-----------------\n",
            "    _py-xgboost-mutex-2.0      |            cpu_0           8 KB  conda-forge\n",
            "    _tflow_select-2.1.0        |              gpu           2 KB\n",
            "    absl-py-0.9.0              |   py37hc8dfbb8_1         162 KB  conda-forge\n",
            "    astor-0.7.1                |             py_0          22 KB  conda-forge\n",
            "    attrs-19.3.0               |             py_0          35 KB  conda-forge\n",
            "    backcall-0.2.0             |     pyh9f0ad1d_0          13 KB  conda-forge\n",
            "    bleach-3.1.5               |     pyh9f0ad1d_0         112 KB  conda-forge\n",
            "    blosc-1.19.0               |       he1b5a44_0         887 KB  conda-forge\n",
            "    bzip2-1.0.8                |       h516909a_2         396 KB  conda-forge\n",
            "    c-ares-1.15.0              |    h516909a_1001         100 KB  conda-forge\n",
            "    ca-certificates-2020.4.5.2 |       hecda079_0         147 KB  conda-forge\n",
            "    cairo-1.16.0               |    h18b612c_1001         1.5 MB  conda-forge\n",
            "    certifi-2020.4.5.2         |   py37hc8dfbb8_0         152 KB  conda-forge\n",
            "    conda-4.8.3                |   py37hc8dfbb8_1         3.0 MB  conda-forge\n",
            "    cudatoolkit-10.1.243       |       h6bb024c_0       347.4 MB\n",
            "    cudnn-7.6.5                |       cuda10.1_0       179.9 MB\n",
            "    cupti-10.1.168             |                0         1.4 MB\n",
            "    cycler-0.10.0              |             py_2           9 KB  conda-forge\n",
            "    cython-0.29.20             |   py37h3340039_0         2.1 MB  conda-forge\n",
            "    dbus-1.13.6                |       he372182_0         602 KB  conda-forge\n",
            "    decorator-4.4.2            |             py_0          11 KB  conda-forge\n",
            "    deepchem-gpu-2.3.0         |           py37_0         2.1 MB  deepchem\n",
            "    defusedxml-0.6.0           |             py_0          22 KB  conda-forge\n",
            "    entrypoints-0.3            |py37hc8dfbb8_1001          12 KB  conda-forge\n",
            "    expat-2.2.9                |       he1b5a44_2         191 KB  conda-forge\n",
            "    fftw3f-3.3.4               |                2         1.2 MB  omnia\n",
            "    fontconfig-2.13.1          |    he4413a7_1000         327 KB  conda-forge\n",
            "    freetype-2.10.2            |       he06d7ca_0         905 KB  conda-forge\n",
            "    gast-0.3.3                 |             py_0          12 KB  conda-forge\n",
            "    glib-2.63.1                |       h3eb4bd4_1         2.9 MB\n",
            "    google-pasta-0.2.0         |     pyh8c360ce_0          42 KB  conda-forge\n",
            "    grpcio-1.23.0              |   py37hb0870dc_1         1.1 MB  conda-forge\n",
            "    gst-plugins-base-1.14.0    |       hbbd80ab_1         4.8 MB\n",
            "    gstreamer-1.14.0           |       hb31296c_0         3.1 MB\n",
            "    h5py-2.10.0                |nompi_py37h513d04c_102         1.2 MB  conda-forge\n",
            "    hdf5-1.10.5                |nompi_h3c11f04_1104         3.1 MB  conda-forge\n",
            "    icu-58.2                   |    hf484d3e_1000        22.6 MB  conda-forge\n",
            "    importlib-metadata-1.6.1   |   py37hc8dfbb8_0          44 KB  conda-forge\n",
            "    importlib_metadata-1.6.1   |                0           3 KB  conda-forge\n",
            "    ipykernel-5.3.0            |   py37h43977f1_0         164 KB  conda-forge\n",
            "    ipython-7.15.0             |   py37hc8dfbb8_0         1.1 MB  conda-forge\n",
            "    ipython_genutils-0.2.0     |             py_1          21 KB  conda-forge\n",
            "    ipywidgets-7.5.1           |             py_0         101 KB  conda-forge\n",
            "    jedi-0.17.0                |   py37hc8dfbb8_0         807 KB  conda-forge\n",
            "    jinja2-2.11.2              |     pyh9f0ad1d_0          93 KB  conda-forge\n",
            "    joblib-0.15.1              |             py_0         202 KB  conda-forge\n",
            "    jpeg-9d                    |       h516909a_0         266 KB  conda-forge\n",
            "    jsonschema-3.2.0           |   py37hc8dfbb8_1          89 KB  conda-forge\n",
            "    jupyter-1.0.0              |             py_2           4 KB  conda-forge\n",
            "    jupyter_client-6.1.3       |             py_0          74 KB  conda-forge\n",
            "    jupyter_console-6.1.0      |             py_1          21 KB  conda-forge\n",
            "    jupyter_core-4.6.3         |   py37hc8dfbb8_1          71 KB  conda-forge\n",
            "    keras-applications-1.0.8   |             py_1          30 KB  conda-forge\n",
            "    keras-preprocessing-1.1.0  |             py_0          33 KB  conda-forge\n",
            "    kiwisolver-1.2.0           |   py37h99015e2_0          87 KB  conda-forge\n",
            "    libblas-3.8.0              |      14_openblas          10 KB  conda-forge\n",
            "    libboost-1.67.0            |       h46d08c1_4        13.0 MB\n",
            "    libcblas-3.8.0             |      14_openblas          10 KB  conda-forge\n",
            "    libgfortran-ng-7.5.0       |       hdf63c60_6         1.7 MB  conda-forge\n",
            "    libiconv-1.15              |    h516909a_1006         2.0 MB  conda-forge\n",
            "    liblapack-3.8.0            |      14_openblas          10 KB  conda-forge\n",
            "    libopenblas-0.3.7          |       h5ec1e0e_6         7.6 MB  conda-forge\n",
            "    libpng-1.6.37              |       hed695b0_1         308 KB  conda-forge\n",
            "    libprotobuf-3.12.3         |       h8b12597_0         4.9 MB  conda-forge\n",
            "    libsodium-1.0.17           |       h516909a_0         330 KB  conda-forge\n",
            "    libtiff-4.1.0              |       hc7e4089_6         668 KB  conda-forge\n",
            "    libuuid-2.32.1             |    h14c3975_1000          26 KB  conda-forge\n",
            "    libwebp-base-1.1.0         |       h516909a_3         845 KB  conda-forge\n",
            "    libxcb-1.13                |    h14c3975_1002         396 KB  conda-forge\n",
            "    libxgboost-1.0.2           |       he1b5a44_1         2.8 MB  conda-forge\n",
            "    libxml2-2.9.9              |       h13577e0_2         1.3 MB  conda-forge\n",
            "    lz4-c-1.9.2                |       he1b5a44_1         226 KB  conda-forge\n",
            "    lzo-2.10                   |    h14c3975_1000         319 KB  conda-forge\n",
            "    markdown-3.2.2             |             py_0          61 KB  conda-forge\n",
            "    markupsafe-1.1.1           |   py37h8f50634_1          26 KB  conda-forge\n",
            "    matplotlib-3.2.1           |                0           6 KB  conda-forge\n",
            "    matplotlib-base-3.2.1      |   py37hef1b27d_0         5.4 MB\n",
            "    mdtraj-1.9.4               |   py37h4112681_0         1.8 MB  conda-forge\n",
            "    mistune-0.8.4              |py37h8f50634_1001          53 KB  conda-forge\n",
            "    mock-4.0.2                 |   py37hc8dfbb8_0          51 KB  conda-forge\n",
            "    nbconvert-5.6.1            |   py37hc8dfbb8_1         487 KB  conda-forge\n",
            "    nbformat-5.0.6             |             py_0          99 KB  conda-forge\n",
            "    networkx-2.4               |             py_1         1.2 MB  conda-forge\n",
            "    notebook-6.0.3             |   py37hc8dfbb8_0         6.3 MB  conda-forge\n",
            "    numexpr-2.7.1              |   py37h0da4684_1         197 KB  conda-forge\n",
            "    numpy-1.18.5               |   py37h8960a57_0         5.1 MB  conda-forge\n",
            "    olefile-0.46               |             py_0          31 KB  conda-forge\n",
            "    openmm-7.4.2               |py37_cuda101_rc_1        11.9 MB  omnia\n",
            "    openssl-1.1.1g             |       h516909a_0         2.1 MB  conda-forge\n",
            "    packaging-20.4             |     pyh9f0ad1d_0          32 KB  conda-forge\n",
            "    pandas-1.0.5               |   py37h0da4684_0        10.1 MB  conda-forge\n",
            "    pandoc-2.9.2.1             |                0        18.7 MB  conda-forge\n",
            "    pandocfilters-1.4.2        |             py_1           9 KB  conda-forge\n",
            "    parso-0.7.0                |     pyh9f0ad1d_0          67 KB  conda-forge\n",
            "    pcre-8.44                  |       he1b5a44_0         261 KB  conda-forge\n",
            "    pdbfixer-1.6               |           py37_0         190 KB  omnia\n",
            "    pexpect-4.8.0              |   py37hc8dfbb8_1          79 KB  conda-forge\n",
            "    pickleshare-0.7.5          |py37hc8dfbb8_1001          13 KB  conda-forge\n",
            "    pillow-5.3.0               |py37h00a061d_1000         595 KB  conda-forge\n",
            "    pixman-0.38.0              |    h516909a_1003         594 KB  conda-forge\n",
            "    prometheus_client-0.8.0    |     pyh9f0ad1d_0          44 KB  conda-forge\n",
            "    prompt-toolkit-3.0.5       |             py_1         233 KB  conda-forge\n",
            "    prompt_toolkit-3.0.5       |                1           4 KB  conda-forge\n",
            "    protobuf-3.12.3            |   py37h3340039_0         702 KB  conda-forge\n",
            "    pthread-stubs-0.4          |    h14c3975_1001           5 KB  conda-forge\n",
            "    ptyprocess-0.6.0           |          py_1001          15 KB  conda-forge\n",
            "    py-boost-1.67.0            |   py37h04863e7_4         278 KB\n",
            "    py-xgboost-1.0.2           |   py37hc8dfbb8_1         2.2 MB  conda-forge\n",
            "    pygments-2.6.1             |             py_0         683 KB  conda-forge\n",
            "    pyparsing-2.4.7            |     pyh9f0ad1d_0          60 KB  conda-forge\n",
            "    pyqt-5.9.2                 |   py37hcca6a23_4         5.7 MB  conda-forge\n",
            "    pyrsistent-0.16.0          |   py37h8f50634_0          89 KB  conda-forge\n",
            "    pytables-3.6.1             |   py37h9f153d1_1         1.5 MB  conda-forge\n",
            "    python-dateutil-2.8.1      |             py_0         220 KB  conda-forge\n",
            "    python_abi-3.7             |          1_cp37m           4 KB  conda-forge\n",
            "    pytz-2020.1                |     pyh9f0ad1d_0         227 KB  conda-forge\n",
            "    pyzmq-19.0.1               |   py37hac76be4_0         519 KB  conda-forge\n",
            "    qt-5.9.7                   |       h5867ecd_1        68.5 MB\n",
            "    qtconsole-4.7.4            |     pyh9f0ad1d_0          88 KB  conda-forge\n",
            "    qtpy-1.9.0                 |             py_0          34 KB  conda-forge\n",
            "    rdkit-2020.03.3.0          |   py37hc20afe1_1        24.8 MB  rdkit\n",
            "    scikit-learn-0.23.1        |   py37h8a51577_0         6.8 MB  conda-forge\n",
            "    scipy-1.4.1                |   py37ha3d9a3c_3        18.8 MB  conda-forge\n",
            "    send2trash-1.5.0           |             py_0          12 KB  conda-forge\n",
            "    simdna-0.4.2               |             py_0         627 KB  deepchem\n",
            "    sip-4.19.8                 |py37hf484d3e_1000         290 KB  conda-forge\n",
            "    snappy-1.1.8               |       he1b5a44_2          32 KB  conda-forge\n",
            "    tensorboard-1.14.0         |           py37_0         3.2 MB  conda-forge\n",
            "    tensorflow-1.14.0          |gpu_py37h74c33d7_0           4 KB\n",
            "    tensorflow-base-1.14.0     |gpu_py37he45bfe2_0       146.3 MB\n",
            "    tensorflow-estimator-1.14.0|   py37h5ca1d4c_0         645 KB  conda-forge\n",
            "    tensorflow-gpu-1.14.0      |       h0d30ee6_0           3 KB\n",
            "    termcolor-1.1.0            |             py_2           6 KB  conda-forge\n",
            "    terminado-0.8.3            |   py37hc8dfbb8_1          23 KB  conda-forge\n",
            "    testpath-0.4.4             |             py_0          85 KB  conda-forge\n",
            "    threadpoolctl-2.1.0        |     pyh5ca1d4c_0          15 KB  conda-forge\n",
            "    tornado-6.0.4              |   py37h8f50634_1         639 KB  conda-forge\n",
            "    traitlets-4.3.3            |   py37hc8dfbb8_1         133 KB  conda-forge\n",
            "    wcwidth-0.2.4              |     pyh9f0ad1d_0          33 KB  conda-forge\n",
            "    webencodings-0.5.1         |             py_1          12 KB  conda-forge\n",
            "    werkzeug-1.0.1             |     pyh9f0ad1d_0         239 KB  conda-forge\n",
            "    widgetsnbextension-3.5.1   |           py37_0         1.8 MB  conda-forge\n",
            "    wrapt-1.12.1               |   py37h8f50634_1          46 KB  conda-forge\n",
            "    xgboost-1.0.2              |   py37h3340039_1          11 KB  conda-forge\n",
            "    xorg-kbproto-1.0.7         |    h14c3975_1002          26 KB  conda-forge\n",
            "    xorg-libice-1.0.10         |       h516909a_0          57 KB  conda-forge\n",
            "    xorg-libsm-1.2.3           |    h84519dc_1000          25 KB  conda-forge\n",
            "    xorg-libx11-1.6.9          |       h516909a_0         918 KB  conda-forge\n",
            "    xorg-libxau-1.0.9          |       h14c3975_0          13 KB  conda-forge\n",
            "    xorg-libxdmcp-1.1.3        |       h516909a_0          18 KB  conda-forge\n",
            "    xorg-libxext-1.3.4         |       h516909a_0          51 KB  conda-forge\n",
            "    xorg-libxrender-0.9.10     |    h516909a_1002          31 KB  conda-forge\n",
            "    xorg-renderproto-0.11.1    |    h14c3975_1002           8 KB  conda-forge\n",
            "    xorg-xextproto-7.3.0       |    h14c3975_1002          27 KB  conda-forge\n",
            "    xorg-xproto-7.0.31         |    h14c3975_1007          72 KB  conda-forge\n",
            "    zeromq-4.3.2               |       he1b5a44_2         668 KB  conda-forge\n",
            "    zipp-3.1.0                 |             py_0          10 KB  conda-forge\n",
            "    zstd-1.4.4                 |       h6597ccf_3         991 KB  conda-forge\n",
            "    ------------------------------------------------------------\n",
            "                                           Total:       974.6 MB\n",
            "\n",
            "The following NEW packages will be INSTALLED:\n",
            "\n",
            "  _py-xgboost-mutex  conda-forge/linux-64::_py-xgboost-mutex-2.0-cpu_0\n",
            "  _tflow_select      pkgs/main/linux-64::_tflow_select-2.1.0-gpu\n",
            "  absl-py            conda-forge/linux-64::absl-py-0.9.0-py37hc8dfbb8_1\n",
            "  astor              conda-forge/noarch::astor-0.7.1-py_0\n",
            "  attrs              conda-forge/noarch::attrs-19.3.0-py_0\n",
            "  backcall           conda-forge/noarch::backcall-0.2.0-pyh9f0ad1d_0\n",
            "  bleach             conda-forge/noarch::bleach-3.1.5-pyh9f0ad1d_0\n",
            "  blosc              conda-forge/linux-64::blosc-1.19.0-he1b5a44_0\n",
            "  bzip2              conda-forge/linux-64::bzip2-1.0.8-h516909a_2\n",
            "  c-ares             conda-forge/linux-64::c-ares-1.15.0-h516909a_1001\n",
            "  cairo              conda-forge/linux-64::cairo-1.16.0-h18b612c_1001\n",
            "  cudatoolkit        pkgs/main/linux-64::cudatoolkit-10.1.243-h6bb024c_0\n",
            "  cudnn              pkgs/main/linux-64::cudnn-7.6.5-cuda10.1_0\n",
            "  cupti              pkgs/main/linux-64::cupti-10.1.168-0\n",
            "  cycler             conda-forge/noarch::cycler-0.10.0-py_2\n",
            "  cython             conda-forge/linux-64::cython-0.29.20-py37h3340039_0\n",
            "  dbus               conda-forge/linux-64::dbus-1.13.6-he372182_0\n",
            "  decorator          conda-forge/noarch::decorator-4.4.2-py_0\n",
            "  deepchem-gpu       deepchem/linux-64::deepchem-gpu-2.3.0-py37_0\n",
            "  defusedxml         conda-forge/noarch::defusedxml-0.6.0-py_0\n",
            "  entrypoints        conda-forge/linux-64::entrypoints-0.3-py37hc8dfbb8_1001\n",
            "  expat              conda-forge/linux-64::expat-2.2.9-he1b5a44_2\n",
            "  fftw3f             omnia/linux-64::fftw3f-3.3.4-2\n",
            "  fontconfig         conda-forge/linux-64::fontconfig-2.13.1-he4413a7_1000\n",
            "  freetype           conda-forge/linux-64::freetype-2.10.2-he06d7ca_0\n",
            "  gast               conda-forge/noarch::gast-0.3.3-py_0\n",
            "  glib               pkgs/main/linux-64::glib-2.63.1-h3eb4bd4_1\n",
            "  google-pasta       conda-forge/noarch::google-pasta-0.2.0-pyh8c360ce_0\n",
            "  grpcio             conda-forge/linux-64::grpcio-1.23.0-py37hb0870dc_1\n",
            "  gst-plugins-base   pkgs/main/linux-64::gst-plugins-base-1.14.0-hbbd80ab_1\n",
            "  gstreamer          pkgs/main/linux-64::gstreamer-1.14.0-hb31296c_0\n",
            "  h5py               conda-forge/linux-64::h5py-2.10.0-nompi_py37h513d04c_102\n",
            "  hdf5               conda-forge/linux-64::hdf5-1.10.5-nompi_h3c11f04_1104\n",
            "  icu                conda-forge/linux-64::icu-58.2-hf484d3e_1000\n",
            "  importlib-metadata conda-forge/linux-64::importlib-metadata-1.6.1-py37hc8dfbb8_0\n",
            "  importlib_metadata conda-forge/noarch::importlib_metadata-1.6.1-0\n",
            "  ipykernel          conda-forge/linux-64::ipykernel-5.3.0-py37h43977f1_0\n",
            "  ipython            conda-forge/linux-64::ipython-7.15.0-py37hc8dfbb8_0\n",
            "  ipython_genutils   conda-forge/noarch::ipython_genutils-0.2.0-py_1\n",
            "  ipywidgets         conda-forge/noarch::ipywidgets-7.5.1-py_0\n",
            "  jedi               conda-forge/linux-64::jedi-0.17.0-py37hc8dfbb8_0\n",
            "  jinja2             conda-forge/noarch::jinja2-2.11.2-pyh9f0ad1d_0\n",
            "  joblib             conda-forge/noarch::joblib-0.15.1-py_0\n",
            "  jpeg               conda-forge/linux-64::jpeg-9d-h516909a_0\n",
            "  jsonschema         conda-forge/linux-64::jsonschema-3.2.0-py37hc8dfbb8_1\n",
            "  jupyter            conda-forge/noarch::jupyter-1.0.0-py_2\n",
            "  jupyter_client     conda-forge/noarch::jupyter_client-6.1.3-py_0\n",
            "  jupyter_console    conda-forge/noarch::jupyter_console-6.1.0-py_1\n",
            "  jupyter_core       conda-forge/linux-64::jupyter_core-4.6.3-py37hc8dfbb8_1\n",
            "  keras-applications conda-forge/noarch::keras-applications-1.0.8-py_1\n",
            "  keras-preprocessi~ conda-forge/noarch::keras-preprocessing-1.1.0-py_0\n",
            "  kiwisolver         conda-forge/linux-64::kiwisolver-1.2.0-py37h99015e2_0\n",
            "  libblas            conda-forge/linux-64::libblas-3.8.0-14_openblas\n",
            "  libboost           pkgs/main/linux-64::libboost-1.67.0-h46d08c1_4\n",
            "  libcblas           conda-forge/linux-64::libcblas-3.8.0-14_openblas\n",
            "  libgfortran-ng     conda-forge/linux-64::libgfortran-ng-7.5.0-hdf63c60_6\n",
            "  libiconv           conda-forge/linux-64::libiconv-1.15-h516909a_1006\n",
            "  liblapack          conda-forge/linux-64::liblapack-3.8.0-14_openblas\n",
            "  libopenblas        conda-forge/linux-64::libopenblas-0.3.7-h5ec1e0e_6\n",
            "  libpng             conda-forge/linux-64::libpng-1.6.37-hed695b0_1\n",
            "  libprotobuf        conda-forge/linux-64::libprotobuf-3.12.3-h8b12597_0\n",
            "  libsodium          conda-forge/linux-64::libsodium-1.0.17-h516909a_0\n",
            "  libtiff            conda-forge/linux-64::libtiff-4.1.0-hc7e4089_6\n",
            "  libuuid            conda-forge/linux-64::libuuid-2.32.1-h14c3975_1000\n",
            "  libwebp-base       conda-forge/linux-64::libwebp-base-1.1.0-h516909a_3\n",
            "  libxcb             conda-forge/linux-64::libxcb-1.13-h14c3975_1002\n",
            "  libxgboost         conda-forge/linux-64::libxgboost-1.0.2-he1b5a44_1\n",
            "  libxml2            conda-forge/linux-64::libxml2-2.9.9-h13577e0_2\n",
            "  lz4-c              conda-forge/linux-64::lz4-c-1.9.2-he1b5a44_1\n",
            "  lzo                conda-forge/linux-64::lzo-2.10-h14c3975_1000\n",
            "  markdown           conda-forge/noarch::markdown-3.2.2-py_0\n",
            "  markupsafe         conda-forge/linux-64::markupsafe-1.1.1-py37h8f50634_1\n",
            "  matplotlib         conda-forge/linux-64::matplotlib-3.2.1-0\n",
            "  matplotlib-base    pkgs/main/linux-64::matplotlib-base-3.2.1-py37hef1b27d_0\n",
            "  mdtraj             conda-forge/linux-64::mdtraj-1.9.4-py37h4112681_0\n",
            "  mistune            conda-forge/linux-64::mistune-0.8.4-py37h8f50634_1001\n",
            "  mock               conda-forge/linux-64::mock-4.0.2-py37hc8dfbb8_0\n",
            "  nbconvert          conda-forge/linux-64::nbconvert-5.6.1-py37hc8dfbb8_1\n",
            "  nbformat           conda-forge/noarch::nbformat-5.0.6-py_0\n",
            "  networkx           conda-forge/noarch::networkx-2.4-py_1\n",
            "  notebook           conda-forge/linux-64::notebook-6.0.3-py37hc8dfbb8_0\n",
            "  numexpr            conda-forge/linux-64::numexpr-2.7.1-py37h0da4684_1\n",
            "  numpy              conda-forge/linux-64::numpy-1.18.5-py37h8960a57_0\n",
            "  olefile            conda-forge/noarch::olefile-0.46-py_0\n",
            "  openmm             omnia/linux-64::openmm-7.4.2-py37_cuda101_rc_1\n",
            "  packaging          conda-forge/noarch::packaging-20.4-pyh9f0ad1d_0\n",
            "  pandas             conda-forge/linux-64::pandas-1.0.5-py37h0da4684_0\n",
            "  pandoc             conda-forge/linux-64::pandoc-2.9.2.1-0\n",
            "  pandocfilters      conda-forge/noarch::pandocfilters-1.4.2-py_1\n",
            "  parso              conda-forge/noarch::parso-0.7.0-pyh9f0ad1d_0\n",
            "  pcre               conda-forge/linux-64::pcre-8.44-he1b5a44_0\n",
            "  pdbfixer           omnia/linux-64::pdbfixer-1.6-py37_0\n",
            "  pexpect            conda-forge/linux-64::pexpect-4.8.0-py37hc8dfbb8_1\n",
            "  pickleshare        conda-forge/linux-64::pickleshare-0.7.5-py37hc8dfbb8_1001\n",
            "  pillow             conda-forge/linux-64::pillow-5.3.0-py37h00a061d_1000\n",
            "  pixman             conda-forge/linux-64::pixman-0.38.0-h516909a_1003\n",
            "  prometheus_client  conda-forge/noarch::prometheus_client-0.8.0-pyh9f0ad1d_0\n",
            "  prompt-toolkit     conda-forge/noarch::prompt-toolkit-3.0.5-py_1\n",
            "  prompt_toolkit     conda-forge/noarch::prompt_toolkit-3.0.5-1\n",
            "  protobuf           conda-forge/linux-64::protobuf-3.12.3-py37h3340039_0\n",
            "  pthread-stubs      conda-forge/linux-64::pthread-stubs-0.4-h14c3975_1001\n",
            "  ptyprocess         conda-forge/noarch::ptyprocess-0.6.0-py_1001\n",
            "  py-boost           pkgs/main/linux-64::py-boost-1.67.0-py37h04863e7_4\n",
            "  py-xgboost         conda-forge/linux-64::py-xgboost-1.0.2-py37hc8dfbb8_1\n",
            "  pygments           conda-forge/noarch::pygments-2.6.1-py_0\n",
            "  pyparsing          conda-forge/noarch::pyparsing-2.4.7-pyh9f0ad1d_0\n",
            "  pyqt               conda-forge/linux-64::pyqt-5.9.2-py37hcca6a23_4\n",
            "  pyrsistent         conda-forge/linux-64::pyrsistent-0.16.0-py37h8f50634_0\n",
            "  pytables           conda-forge/linux-64::pytables-3.6.1-py37h9f153d1_1\n",
            "  python-dateutil    conda-forge/noarch::python-dateutil-2.8.1-py_0\n",
            "  python_abi         conda-forge/linux-64::python_abi-3.7-1_cp37m\n",
            "  pytz               conda-forge/noarch::pytz-2020.1-pyh9f0ad1d_0\n",
            "  pyzmq              conda-forge/linux-64::pyzmq-19.0.1-py37hac76be4_0\n",
            "  qt                 pkgs/main/linux-64::qt-5.9.7-h5867ecd_1\n",
            "  qtconsole          conda-forge/noarch::qtconsole-4.7.4-pyh9f0ad1d_0\n",
            "  qtpy               conda-forge/noarch::qtpy-1.9.0-py_0\n",
            "  rdkit              rdkit/linux-64::rdkit-2020.03.3.0-py37hc20afe1_1\n",
            "  scikit-learn       conda-forge/linux-64::scikit-learn-0.23.1-py37h8a51577_0\n",
            "  scipy              conda-forge/linux-64::scipy-1.4.1-py37ha3d9a3c_3\n",
            "  send2trash         conda-forge/noarch::send2trash-1.5.0-py_0\n",
            "  simdna             deepchem/noarch::simdna-0.4.2-py_0\n",
            "  sip                conda-forge/linux-64::sip-4.19.8-py37hf484d3e_1000\n",
            "  snappy             conda-forge/linux-64::snappy-1.1.8-he1b5a44_2\n",
            "  tensorboard        conda-forge/linux-64::tensorboard-1.14.0-py37_0\n",
            "  tensorflow         pkgs/main/linux-64::tensorflow-1.14.0-gpu_py37h74c33d7_0\n",
            "  tensorflow-base    pkgs/main/linux-64::tensorflow-base-1.14.0-gpu_py37he45bfe2_0\n",
            "  tensorflow-estima~ conda-forge/linux-64::tensorflow-estimator-1.14.0-py37h5ca1d4c_0\n",
            "  tensorflow-gpu     pkgs/main/linux-64::tensorflow-gpu-1.14.0-h0d30ee6_0\n",
            "  termcolor          conda-forge/noarch::termcolor-1.1.0-py_2\n",
            "  terminado          conda-forge/linux-64::terminado-0.8.3-py37hc8dfbb8_1\n",
            "  testpath           conda-forge/noarch::testpath-0.4.4-py_0\n",
            "  threadpoolctl      conda-forge/noarch::threadpoolctl-2.1.0-pyh5ca1d4c_0\n",
            "  tornado            conda-forge/linux-64::tornado-6.0.4-py37h8f50634_1\n",
            "  traitlets          conda-forge/linux-64::traitlets-4.3.3-py37hc8dfbb8_1\n",
            "  wcwidth            conda-forge/noarch::wcwidth-0.2.4-pyh9f0ad1d_0\n",
            "  webencodings       conda-forge/noarch::webencodings-0.5.1-py_1\n",
            "  werkzeug           conda-forge/noarch::werkzeug-1.0.1-pyh9f0ad1d_0\n",
            "  widgetsnbextension conda-forge/linux-64::widgetsnbextension-3.5.1-py37_0\n",
            "  wrapt              conda-forge/linux-64::wrapt-1.12.1-py37h8f50634_1\n",
            "  xgboost            conda-forge/linux-64::xgboost-1.0.2-py37h3340039_1\n",
            "  xorg-kbproto       conda-forge/linux-64::xorg-kbproto-1.0.7-h14c3975_1002\n",
            "  xorg-libice        conda-forge/linux-64::xorg-libice-1.0.10-h516909a_0\n",
            "  xorg-libsm         conda-forge/linux-64::xorg-libsm-1.2.3-h84519dc_1000\n",
            "  xorg-libx11        conda-forge/linux-64::xorg-libx11-1.6.9-h516909a_0\n",
            "  xorg-libxau        conda-forge/linux-64::xorg-libxau-1.0.9-h14c3975_0\n",
            "  xorg-libxdmcp      conda-forge/linux-64::xorg-libxdmcp-1.1.3-h516909a_0\n",
            "  xorg-libxext       conda-forge/linux-64::xorg-libxext-1.3.4-h516909a_0\n",
            "  xorg-libxrender    conda-forge/linux-64::xorg-libxrender-0.9.10-h516909a_1002\n",
            "  xorg-renderproto   conda-forge/linux-64::xorg-renderproto-0.11.1-h14c3975_1002\n",
            "  xorg-xextproto     conda-forge/linux-64::xorg-xextproto-7.3.0-h14c3975_1002\n",
            "  xorg-xproto        conda-forge/linux-64::xorg-xproto-7.0.31-h14c3975_1007\n",
            "  zeromq             conda-forge/linux-64::zeromq-4.3.2-he1b5a44_2\n",
            "  zipp               conda-forge/noarch::zipp-3.1.0-py_0\n",
            "  zstd               conda-forge/linux-64::zstd-1.4.4-h6597ccf_3\n",
            "\n",
            "The following packages will be UPDATED:\n",
            "\n",
            "  ca-certificates     pkgs/main::ca-certificates-2020.1.1-0 --> conda-forge::ca-certificates-2020.4.5.2-hecda079_0\n",
            "  certifi              pkgs/main::certifi-2020.4.5.1-py37_0 --> conda-forge::certifi-2020.4.5.2-py37hc8dfbb8_0\n",
            "  conda                       pkgs/main::conda-4.8.3-py37_0 --> conda-forge::conda-4.8.3-py37hc8dfbb8_1\n",
            "\n",
            "The following packages will be SUPERSEDED by a higher-priority channel:\n",
            "\n",
            "  openssl              pkgs/main::openssl-1.1.1g-h7b6447c_0 --> conda-forge::openssl-1.1.1g-h516909a_0\n",
            "\n",
            "\n",
            "\n",
            "Downloading and Extracting Packages\n",
            "xorg-libxrender-0.9. | 31 KB     | : 100% 1.0/1 [00:00<00:00, 14.71it/s]\n",
            "sip-4.19.8           | 290 KB    | : 100% 1.0/1 [00:00<00:00, 13.66it/s]\n",
            "scikit-learn-0.23.1  | 6.8 MB    | : 100% 1.0/1 [00:01<00:00,  1.42s/it]\n",
            "werkzeug-1.0.1       | 239 KB    | : 100% 1.0/1 [00:00<00:00, 13.59it/s]\n",
            "xorg-libx11-1.6.9    | 918 KB    | : 100% 1.0/1 [00:00<00:00,  5.49it/s]\n",
            "xorg-libxext-1.3.4   | 51 KB     | : 100% 1.0/1 [00:00<00:00, 28.51it/s]\n",
            "nbformat-5.0.6       | 99 KB     | : 100% 1.0/1 [00:00<00:00, 20.58it/s]\n",
            "mock-4.0.2           | 51 KB     | : 100% 1.0/1 [00:00<00:00, 27.29it/s]\n",
            "cudatoolkit-10.1.243 | 347.4 MB  | : 100% 1.0/1 [00:08<00:00,  8.78s/it]               \n",
            "icu-58.2             | 22.6 MB   | : 100% 1.0/1 [00:03<00:00,  3.58s/it]               \n",
            "pandoc-2.9.2.1       | 18.7 MB   | : 100% 1.0/1 [00:04<00:00,  2.43s/it]               \n",
            "xorg-xproto-7.0.31   | 72 KB     | : 100% 1.0/1 [00:00<00:00, 21.90it/s]\n",
            "markdown-3.2.2       | 61 KB     | : 100% 1.0/1 [00:00<00:00, 25.38it/s]\n",
            "libgfortran-ng-7.5.0 | 1.7 MB    | : 100% 1.0/1 [00:00<00:00,  3.21it/s]\n",
            "widgetsnbextension-3 | 1.8 MB    | : 100% 1.0/1 [00:00<00:00,  2.44it/s]\n",
            "libiconv-1.15        | 2.0 MB    | : 100% 1.0/1 [00:00<00:00,  3.62it/s]\n",
            "scipy-1.4.1          | 18.8 MB   | : 100% 1.0/1 [00:03<00:00,  1.79s/it]                \n",
            "libxml2-2.9.9        | 1.3 MB    | : 100% 1.0/1 [00:00<00:00,  2.91it/s]\n",
            "backcall-0.2.0       | 13 KB     | : 100% 1.0/1 [00:00<00:00, 37.39it/s]\n",
            "fftw3f-3.3.4         | 1.2 MB    | : 100% 1.0/1 [00:03<00:00,  3.28s/it]\n",
            "lz4-c-1.9.2          | 226 KB    | : 100% 1.0/1 [00:00<00:00, 12.31it/s]\n",
            "numexpr-2.7.1        | 197 KB    | : 100% 1.0/1 [00:00<00:00, 17.53it/s]\n",
            "py-xgboost-1.0.2     | 2.2 MB    | : 100% 1.0/1 [00:00<00:00,  2.08it/s]\n",
            "prompt-toolkit-3.0.5 | 233 KB    | : 100% 1.0/1 [00:00<00:00,  3.62s/it]                \n",
            "zstd-1.4.4           | 991 KB    | : 100% 1.0/1 [00:00<00:00,  5.43it/s]\n",
            "xorg-libxdmcp-1.1.3  | 18 KB     | : 100% 1.0/1 [00:00<00:00, 39.83it/s]\n",
            "python_abi-3.7       | 4 KB      | : 100% 1.0/1 [00:00<00:00, 49.16it/s]\n",
            "pyparsing-2.4.7      | 60 KB     | : 100% 1.0/1 [00:00<00:00, 27.63it/s]\n",
            "pthread-stubs-0.4    | 5 KB      | : 100% 1.0/1 [00:00<00:00, 43.25it/s]\n",
            "snappy-1.1.8         | 32 KB     | : 100% 1.0/1 [00:00<00:00, 37.75it/s]\n",
            "pexpect-4.8.0        | 79 KB     | : 100% 1.0/1 [00:00<00:00, 24.38it/s]\n",
            "tensorflow-gpu-1.14. | 3 KB      | : 100% 1.0/1 [00:00<00:00, 12.69it/s]\n",
            "zeromq-4.3.2         | 668 KB    | : 100% 1.0/1 [00:00<00:00,  6.00it/s]\n",
            "hdf5-1.10.5          | 3.1 MB    | : 100% 1.0/1 [00:00<00:00,  2.01it/s]\n",
            "prometheus_client-0. | 44 KB     | : 100% 1.0/1 [00:00<00:00, 28.17it/s]\n",
            "gst-plugins-base-1.1 | 4.8 MB    | : 100% 1.0/1 [00:00<00:00,  3.19it/s]\n",
            "keras-preprocessing- | 33 KB     | : 100% 1.0/1 [00:00<00:00, 33.27it/s]\n",
            "xorg-libice-1.0.10   | 57 KB     | : 100% 1.0/1 [00:00<00:00, 30.91it/s]\n",
            "threadpoolctl-2.1.0  | 15 KB     | : 100% 1.0/1 [00:00<00:00, 37.69it/s]\n",
            "mdtraj-1.9.4         | 1.8 MB    | : 100% 1.0/1 [00:00<00:00,  2.83it/s]\n",
            "pytz-2020.1          | 227 KB    | : 100% 1.0/1 [00:00<00:00,  8.78it/s]\n",
            "ipython_genutils-0.2 | 21 KB     | : 100% 1.0/1 [00:00<00:00, 33.27it/s]\n",
            "xorg-libxau-1.0.9    | 13 KB     | : 100% 1.0/1 [00:00<00:00, 35.48it/s]\n",
            "jupyter_core-4.6.3   | 71 KB     | : 100% 1.0/1 [00:00<00:00, 21.39it/s]\n",
            "pillow-5.3.0         | 595 KB    | : 100% 1.0/1 [00:00<00:00,  6.71it/s]\n",
            "packaging-20.4       | 32 KB     | : 100% 1.0/1 [00:00<00:00, 37.23it/s]\n",
            "cairo-1.16.0         | 1.5 MB    | : 100% 1.0/1 [00:00<00:00,  3.02it/s]\n",
            "blosc-1.19.0         | 887 KB    | : 100% 1.0/1 [00:00<00:00,  6.29it/s]\n",
            "libsodium-1.0.17     | 330 KB    | : 100% 1.0/1 [00:00<00:00, 11.06it/s]\n",
            "termcolor-1.1.0      | 6 KB      | : 100% 1.0/1 [00:00<00:00, 34.98it/s]\n",
            "pyrsistent-0.16.0    | 89 KB     | : 100% 1.0/1 [00:00<00:00, 17.39it/s]\n",
            "olefile-0.46         | 31 KB     | : 100% 1.0/1 [00:00<00:00, 29.38it/s]\n",
            "kiwisolver-1.2.0     | 87 KB     | : 100% 1.0/1 [00:00<00:00, 24.06it/s]\n",
            "expat-2.2.9          | 191 KB    | : 100% 1.0/1 [00:00<00:00, 15.39it/s]\n",
            "entrypoints-0.3      | 12 KB     | : 100% 1.0/1 [00:00<00:00, 38.60it/s]\n",
            "python-dateutil-2.8. | 220 KB    | : 100% 1.0/1 [00:00<00:00, 17.19it/s]\n",
            "liblapack-3.8.0      | 10 KB     | : 100% 1.0/1 [00:00<00:00, 38.06it/s]\n",
            "libcblas-3.8.0       | 10 KB     | : 100% 1.0/1 [00:00<00:00, 36.70it/s]\n",
            "ipykernel-5.3.0      | 164 KB    | : 100% 1.0/1 [00:00<00:00, 14.96it/s]\n",
            "pcre-8.44            | 261 KB    | : 100% 1.0/1 [00:00<00:00, 14.87it/s]\n",
            "xorg-kbproto-1.0.7   | 26 KB     | : 100% 1.0/1 [00:00<00:00, 32.99it/s]\n",
            "markupsafe-1.1.1     | 26 KB     | : 100% 1.0/1 [00:00<00:00, 36.95it/s]\n",
            "rdkit-2020.03.3.0    | 24.8 MB   | : 100% 1.0/1 [00:04<00:00,  4.74s/it]\n",
            "protobuf-3.12.3      | 702 KB    | : 100% 1.0/1 [00:00<00:00,  4.28it/s]\n",
            "pandocfilters-1.4.2  | 9 KB      | : 100% 1.0/1 [00:00<00:00, 40.53it/s]\n",
            "freetype-2.10.2      | 905 KB    | : 100% 1.0/1 [00:00<00:00,  5.64it/s]\n",
            "libopenblas-0.3.7    | 7.6 MB    | : 100% 1.0/1 [00:01<00:00,  1.44s/it]\n",
            "absl-py-0.9.0        | 162 KB    | : 100% 1.0/1 [00:00<00:00, 14.61it/s]\n",
            "jupyter_console-6.1. | 21 KB     | : 100% 1.0/1 [00:00<00:00, 28.38it/s]\n",
            "astor-0.7.1          | 22 KB     | : 100% 1.0/1 [00:00<00:00, 39.00it/s]\n",
            "testpath-0.4.4       | 85 KB     | : 100% 1.0/1 [00:00<00:00, 21.08it/s]\n",
            "importlib-metadata-1 | 44 KB     | : 100% 1.0/1 [00:00<00:00, 34.09it/s]\n",
            "deepchem-gpu-2.3.0   | 2.1 MB    | : 100% 1.0/1 [00:03<00:00,  3.21s/it]\n",
            "decorator-4.4.2      | 11 KB     | : 100% 1.0/1 [00:00<00:00, 45.43it/s]\n",
            "libblas-3.8.0        | 10 KB     | : 100% 1.0/1 [00:00<00:00, 39.79it/s]\n",
            "wrapt-1.12.1         | 46 KB     | : 100% 1.0/1 [00:00<00:00, 23.39it/s]\n",
            "tensorboard-1.14.0   | 3.2 MB    | : 100% 1.0/1 [00:00<00:00,  1.87it/s]\n",
            "ptyprocess-0.6.0     | 15 KB     | : 100% 1.0/1 [00:00<00:00, 40.25it/s]\n",
            "simdna-0.4.2         | 627 KB    | : 100% 1.0/1 [00:03<00:00,  3.27s/it]\n",
            "xorg-xextproto-7.3.0 | 27 KB     | : 100% 1.0/1 [00:00<00:00, 36.84it/s]\n",
            "fontconfig-2.13.1    | 327 KB    | : 100% 1.0/1 [00:00<00:00, 12.12it/s]\n",
            "libpng-1.6.37        | 308 KB    | : 100% 1.0/1 [00:00<00:00, 13.36it/s]\n",
            "conda-4.8.3          | 3.0 MB    | : 100% 1.0/1 [00:00<00:00,  1.65it/s]\n",
            "xgboost-1.0.2        | 11 KB     | : 100% 1.0/1 [00:00<00:00, 37.14it/s]\n",
            "cudnn-7.6.5          | 179.9 MB  | : 100% 1.0/1 [00:04<00:00,  4.43s/it]               \n",
            "attrs-19.3.0         | 35 KB     | : 100% 1.0/1 [00:00<00:00, 31.98it/s]\n",
            "jupyter-1.0.0        | 4 KB      | : 100% 1.0/1 [00:00<00:00, 45.50it/s]\n",
            "tensorflow-estimator | 645 KB    | : 100% 1.0/1 [00:00<00:00,  4.54it/s]\n",
            "libxgboost-1.0.2     | 2.8 MB    | : 100% 1.0/1 [00:00<00:00,  2.09it/s]\n",
            "libboost-1.67.0      | 13.0 MB   | : 100% 1.0/1 [00:01<00:00,  1.89s/it]               \n",
            "grpcio-1.23.0        | 1.1 MB    | : 100% 1.0/1 [00:00<00:00,  4.44it/s]\n",
            "matplotlib-base-3.2. | 5.4 MB    | : 100% 1.0/1 [00:00<00:00,  3.74it/s]\n",
            "nbconvert-5.6.1      | 487 KB    | : 100% 1.0/1 [00:00<00:00,  7.59it/s]\n",
            "libprotobuf-3.12.3   | 4.9 MB    | : 100% 1.0/1 [00:01<00:00,  1.03s/it]\n",
            "importlib_metadata-1 | 3 KB      | : 100% 1.0/1 [00:00<00:00, 47.96it/s]\n",
            "traitlets-4.3.3      | 133 KB    | : 100% 1.0/1 [00:00<00:00, 18.26it/s]\n",
            "certifi-2020.4.5.2   | 152 KB    | : 100% 1.0/1 [00:00<00:00, 25.15it/s]\n",
            "pdbfixer-1.6         | 190 KB    | : 100% 1.0/1 [00:01<00:00,  1.95s/it]\n",
            "h5py-2.10.0          | 1.2 MB    | : 100% 1.0/1 [00:00<00:00,  4.06it/s]\n",
            "send2trash-1.5.0     | 12 KB     | : 100% 1.0/1 [00:00<00:00, 40.51it/s]\n",
            "tornado-6.0.4        | 639 KB    | : 100% 1.0/1 [00:00<00:00,  5.89it/s]\n",
            "zipp-3.1.0           | 10 KB     | : 100% 1.0/1 [00:00<00:00, 40.57it/s]\n",
            "webencodings-0.5.1   | 12 KB     | : 100% 1.0/1 [00:00<00:00, 34.40it/s]\n",
            "libwebp-base-1.1.0   | 845 KB    | : 100% 1.0/1 [00:00<00:00,  5.92it/s]\n",
            "ca-certificates-2020 | 147 KB    | : 100% 1.0/1 [00:00<00:00, 23.90it/s]\n",
            "tensorflow-base-1.14 | 146.3 MB  | : 100% 1.0/1 [00:18<00:00, 18.90s/it]               \n",
            "gstreamer-1.14.0     | 3.1 MB    | : 100% 1.0/1 [00:00<00:00,  5.31it/s]\n",
            "pyzmq-19.0.1         | 519 KB    | : 100% 1.0/1 [00:00<00:00,  6.54it/s]\n",
            "networkx-2.4         | 1.2 MB    | : 100% 1.0/1 [00:00<00:00,  3.23it/s]\n",
            "xorg-renderproto-0.1 | 8 KB      | : 100% 1.0/1 [00:00<00:00, 38.81it/s]\n",
            "_py-xgboost-mutex-2. | 8 KB      | : 100% 1.0/1 [00:00<00:00, 40.19it/s]\n",
            "jsonschema-3.2.0     | 89 KB     | : 100% 1.0/1 [00:00<00:00, 22.88it/s]\n",
            "matplotlib-3.2.1     | 6 KB      | : 100% 1.0/1 [00:00<00:00, 42.62it/s]\n",
            "cupti-10.1.168       | 1.4 MB    | : 100% 1.0/1 [00:00<00:00,  9.71it/s]\n",
            "ipython-7.15.0       | 1.1 MB    | : 100% 1.0/1 [00:00<00:00,  3.16it/s]\n",
            "keras-applications-1 | 30 KB     | : 100% 1.0/1 [00:00<00:00, 31.14it/s]\n",
            "numpy-1.18.5         | 5.1 MB    | : 100% 1.0/1 [00:01<00:00,  1.12s/it]\n",
            "pytables-3.6.1       | 1.5 MB    | : 100% 1.0/1 [00:00<00:00,  2.98it/s]\n",
            "jpeg-9d              | 266 KB    | : 100% 1.0/1 [00:00<00:00, 12.89it/s]\n",
            "c-ares-1.15.0        | 100 KB    | : 100% 1.0/1 [00:00<00:00, 23.84it/s]\n",
            "mistune-0.8.4        | 53 KB     | : 100% 1.0/1 [00:00<00:00, 26.74it/s]\n",
            "wcwidth-0.2.4        | 33 KB     | : 100% 1.0/1 [00:00<00:00, 27.78it/s]\n",
            "py-boost-1.67.0      | 278 KB    | : 100% 1.0/1 [00:00<00:00, 11.76it/s]\n",
            "pandas-1.0.5         | 10.1 MB   | : 100% 1.0/1 [00:02<00:00,  2.17s/it]               \n",
            "libuuid-2.32.1       | 26 KB     | : 100% 1.0/1 [00:00<00:00, 36.88it/s]\n",
            "pixman-0.38.0        | 594 KB    | : 100% 1.0/1 [00:00<00:00,  8.58it/s]\n",
            "pickleshare-0.7.5    | 13 KB     | : 100% 1.0/1 [00:00<00:00, 38.72it/s]\n",
            "openmm-7.4.2         | 11.9 MB   | : 100% 1.0/1 [00:06<00:00,  6.70s/it]\n",
            "jinja2-2.11.2        | 93 KB     | : 100% 1.0/1 [00:00<00:00, 22.16it/s]\n",
            "joblib-0.15.1        | 202 KB    | : 100% 1.0/1 [00:00<00:00, 11.97it/s]\n",
            "libxcb-1.13          | 396 KB    | : 100% 1.0/1 [00:00<00:00,  7.60it/s]\n",
            "pygments-2.6.1       | 683 KB    | : 100% 1.0/1 [00:00<00:00,  5.56it/s]\n",
            "tensorflow-1.14.0    | 4 KB      | : 100% 1.0/1 [00:00<00:00, 16.10it/s]\n",
            "bzip2-1.0.8          | 396 KB    | : 100% 1.0/1 [00:00<00:00,  9.65it/s]\n",
            "bleach-3.1.5         | 112 KB    | : 100% 1.0/1 [00:00<00:00, 19.32it/s]\n",
            "openssl-1.1.1g       | 2.1 MB    | : 100% 1.0/1 [00:00<00:00,  2.80it/s]\n",
            "_tflow_select-2.1.0  | 2 KB      | : 100% 1.0/1 [00:00<00:00, 16.04it/s]\n",
            "dbus-1.13.6          | 602 KB    | : 100% 1.0/1 [00:00<00:00,  4.85it/s]\n",
            "glib-2.63.1          | 2.9 MB    | : 100% 1.0/1 [00:00<00:00,  5.00it/s]\n",
            "gast-0.3.3           | 12 KB     | : 100% 1.0/1 [00:00<00:00, 41.34it/s]\n",
            "xorg-libsm-1.2.3     | 25 KB     | : 100% 1.0/1 [00:00<00:00, 31.04it/s]\n",
            "prompt_toolkit-3.0.5 | 4 KB      | : 100% 1.0/1 [00:00<00:00,  3.14it/s]\n",
            "ipywidgets-7.5.1     | 101 KB    | : 100% 1.0/1 [00:00<00:00, 21.14it/s]\n",
            "cython-0.29.20       | 2.1 MB    | : 100% 1.0/1 [00:00<00:00,  2.08it/s]\n",
            "google-pasta-0.2.0   | 42 KB     | : 100% 1.0/1 [00:00<00:00, 27.27it/s]\n",
            "notebook-6.0.3       | 6.3 MB    | : 100% 1.0/1 [00:01<00:00,  1.36s/it]\n",
            "qtconsole-4.7.4      | 88 KB     | : 100% 1.0/1 [00:00<00:00, 23.38it/s]\n",
            "terminado-0.8.3      | 23 KB     | : 100% 1.0/1 [00:00<00:00, 39.20it/s]\n",
            "cycler-0.10.0        | 9 KB      | : 100% 1.0/1 [00:00<00:00, 42.06it/s]\n",
            "pyqt-5.9.2           | 5.7 MB    | : 100% 1.0/1 [00:01<00:00,  1.31s/it]\n",
            "qtpy-1.9.0           | 34 KB     | : 100% 1.0/1 [00:00<00:00, 14.82it/s]\n",
            "lzo-2.10             | 319 KB    | : 100% 1.0/1 [00:00<00:00, 11.04it/s]\n",
            "defusedxml-0.6.0     | 22 KB     | : 100% 1.0/1 [00:00<00:00, 41.00it/s]\n",
            "libtiff-4.1.0        | 668 KB    | : 100% 1.0/1 [00:00<00:00,  7.40it/s]\n",
            "jupyter_client-6.1.3 | 74 KB     | : 100% 1.0/1 [00:00<00:00, 25.11it/s]\n",
            "parso-0.7.0          | 67 KB     | : 100% 1.0/1 [00:00<00:00, 26.67it/s]\n",
            "qt-5.9.7             | 68.5 MB   | : 100% 1.0/1 [00:02<00:00,  2.79s/it]               \n",
            "jedi-0.17.0          | 807 KB    | : 100% 1.0/1 [00:00<00:00,  2.98it/s]\n",
            "Preparing transaction: | \b\b/ \b\b- \b\b\\ \b\b| \b\b/ \b\b- \b\b\\ \b\b| \b\b/ \b\b- \b\b\\ \b\b| \b\b/ \b\b- \b\b\\ \b\b| \b\b/ \b\b- \b\b\\ \b\b| \b\bdone\n",
            "Verifying transaction: - \b\b\\ \b\b| \b\b/ \b\b- \b\b\\ \b\b| \b\b/ \b\b- \b\b\\ \b\b| \b\b/ \b\b- \b\b\\ \b\b| \b\b/ \b\b- \b\b\\ \b\b| \b\b/ \b\b- \b\b\\ \b\b| \b\b/ \b\b- \b\b\\ \b\b| \b\b/ \b\b- \b\b\\ \b\b| \b\b/ \b\b- \b\b\\ \b\b| \b\b/ \b\b- \b\b\\ \b\b| \b\b/ \b\b- \b\b\\ \b\b| \b\b/ \b\b- \b\b\\ \b\b| \b\b/ \b\b- \b\b\\ \b\b| \b\b/ \b\b- \b\b\\ \b\b| \b\b/ \b\b- \b\b\\ \b\bdone\n",
            "Executing transaction: / \b\b- \b\b\\ \b\b| \b\b/ \b\b- \b\b\\ \b\b| \b\b/ \b\b- \b\b\\ \b\b| \b\b/ \b\b- \b\b\\ \b\b| \b\b/ \b\b- \b\b\\ \b\b| \b\b/ \b\b- \b\b\\ \b\b| \b\b/ \b\b- \b\b\\ \b\b| \b\b/ \b\b- \b\b\\ \b\b| \b\b/ \b\b- \b\b\\ \b\b| \b\b/ \b\b- \b\b\\ \b\b| b'Enabling notebook extension jupyter-js-widgets/extension...\\nPaths used for configuration of notebook: \\n    \\t/usr/local/etc/jupyter/nbconfig/notebook.d/plotlywidget.json\\n    \\t/usr/local/etc/jupyter/nbconfig/notebook.d/widgetsnbextension.json\\n    \\t/usr/local/etc/jupyter/nbconfig/notebook.json\\nPaths used for configuration of notebook: \\n    \\t/usr/local/etc/jupyter/nbconfig/notebook.d/plotlywidget.json\\n    \\t/usr/local/etc/jupyter/nbconfig/notebook.d/widgetsnbextension.json\\n      - Validating: \\x1b[32mOK\\x1b[0m\\nPaths used for configuration of notebook: \\n    \\t/usr/local/etc/jupyter/nbconfig/notebook.d/plotlywidget.json\\n    \\t/usr/local/etc/jupyter/nbconfig/notebook.d/widgetsnbextension.json\\n    \\t/usr/local/etc/jupyter/nbconfig/notebook.json\\n'\n",
            "\b\b/ \b\b- \b\b\\ \b\b| \b\b/ \b\b- \b\b\\ \b\b| \b\b/ \b\b- \b\b\\ \b\b| \b\b/ \b\b- \b\b\\ \b\b| \b\b/ \b\b- \b\b\\ \b\b| \b\b/ \b\b- \b\b\\ \b\b| \b\b/ \b\b- \b\b\\ \b\b| \b\b/ \b\b- \b\b\\ \b\b| \b\b/ \b\b- \b\b\\ \b\b| \b\b/ \b\b- \b\b\\ \b\b| \b\b/ \b\b- \b\b\\ \b\b| \b\b/ \b\b- \b\b\\ \b\b| \b\b/ \b\b- \b\b\\ \b\b| \b\bdone\n"
          ],
          "name": "stdout"
        }
      ]
    },
    {
      "cell_type": "code",
      "metadata": {
        "id": "vJA4T7h0SEwI",
        "colab_type": "code",
        "colab": {
          "base_uri": "https://localhost:8080/",
          "height": 34
        },
        "outputId": "1d12a583-4108-40e6-a462-4b43042217ed"
      },
      "source": [
        "import rdkit\n",
        "print(rdkit.__version__)\n",
        "from rdkit import Chem\n",
        "from rdkit.Chem import Draw\n",
        "from rdkit.Chem import Kekulize\n",
        "from rdkit.Chem import MolToSmiles, MolFromSmiles"
      ],
      "execution_count": 21,
      "outputs": [
        {
          "output_type": "stream",
          "text": [
            "2020.03.3\n"
          ],
          "name": "stdout"
        }
      ]
    },
    {
      "cell_type": "code",
      "metadata": {
        "id": "817l7PQ5SXi7",
        "colab_type": "code",
        "colab": {
          "base_uri": "https://localhost:8080/",
          "height": 52
        },
        "outputId": "596ffa72-e4f9-4cce-9c6f-c25adf795d7b"
      },
      "source": [
        "# testing benzene\n",
        "\n",
        "smi_aromatic = \"c1ccccc1\"\n",
        "smi_dearomatic = \"C1=CC=CC=C1\"\n",
        "mol_aromatic = Chem.MolFromSmiles(smi_aromatic)\n",
        "mol_dearomatic = Chem.MolFromSmiles(smi_dearomatic)\n",
        "print('aromatic SMILES: ' + Chem.CanonSmiles(smi_aromatic))\n",
        "print('dearomatic SMILES: ' + Chem.CanonSmiles(smi_dearomatic))\n",
        "Draw.MolToImageFile(mol_aromatic, 'tmp1.png')\n",
        "Draw.MolToImageFile(mol_dearomatic, 'tmpa1.png')"
      ],
      "execution_count": 3,
      "outputs": [
        {
          "output_type": "stream",
          "text": [
            "aromatic SMILES: c1ccccc1\n",
            "dearomatic SMILES: c1ccccc1\n"
          ],
          "name": "stdout"
        }
      ]
    },
    {
      "cell_type": "code",
      "metadata": {
        "id": "ApWJ1zlfX8_s",
        "colab_type": "code",
        "colab": {
          "base_uri": "https://localhost:8080/",
          "height": 116
        },
        "outputId": "2a5b086f-12af-4289-b6f1-acca708245a6"
      },
      "source": [
        "from IPython.display import Image \n",
        "\n",
        "PATH = \"/content\"\n",
        "Image(filename = PATH + \"/tmp1.png\", width=100, height=100)\n"
      ],
      "execution_count": 4,
      "outputs": [
        {
          "output_type": "execute_result",
          "data": {
            "image/png": "[encoded data removed]",
            "text/plain": [
              "<IPython.core.display.Image object>"
            ]
          },
          "metadata": {
            "tags": [],
            "image/png": {
              "width": 100,
              "height": 100
            }
          },
          "execution_count": 4
        }
      ]
    },
    {
      "cell_type": "code",
      "metadata": {
        "id": "GRQZNRnqai8f",
        "colab_type": "code",
        "colab": {
          "base_uri": "https://localhost:8080/",
          "height": 116
        },
        "outputId": "4126d9b2-6488-41a5-f47b-68c313bad879"
      },
      "source": [
        "Image(filename = PATH + \"/tmpa1.png\", width=100, height=100)\n"
      ],
      "execution_count": 5,
      "outputs": [
        {
          "output_type": "execute_result",
          "data": {
            "image/png": "[encoded data removed]",
            "text/plain": [
              "<IPython.core.display.Image object>"
            ]
          },
          "metadata": {
            "tags": [],
            "image/png": {
              "width": 100,
              "height": 100
            }
          },
          "execution_count": 5
        }
      ]
    },
    {
      "cell_type": "code",
      "metadata": {
        "id": "hfUQ6zF7XKlo",
        "colab_type": "code",
        "colab": {
          "base_uri": "https://localhost:8080/",
          "height": 52
        },
        "outputId": "5aac1454-8c53-43d1-a283-019fbebf34c5"
      },
      "source": [
        "# testing azulnene\n",
        "\n",
        "smi_aromatic = \"c1cc2cccccc2c1\"\n",
        "smi_dearomatic = \"C1=CC2=CC=CC=CC2=C1\"\n",
        "mol_aromatic = Chem.MolFromSmiles(smi_aromatic)\n",
        "mol_dearomatic = Chem.MolFromSmiles(smi_dearomatic)\n",
        "print('aromatic SMILES: ' + Chem.CanonSmiles(smi_aromatic))\n",
        "print('dearomatic SMILES: ' + Chem.CanonSmiles(smi_dearomatic))\n",
        "Draw.MolToImageFile(mol_aromatic, 'tmp1.png')\n",
        "Draw.MolToImageFile(mol_dearomatic, 'tmpa1.png')"
      ],
      "execution_count": 6,
      "outputs": [
        {
          "output_type": "stream",
          "text": [
            "aromatic SMILES: c1ccc2cccc-2cc1\n",
            "dearomatic SMILES: c1ccc2cccc-2cc1\n"
          ],
          "name": "stdout"
        }
      ]
    },
    {
      "cell_type": "code",
      "metadata": {
        "id": "3-RbSULzXgs7",
        "colab_type": "code",
        "colab": {
          "base_uri": "https://localhost:8080/",
          "height": 116
        },
        "outputId": "b136da99-dfd5-418a-f81d-0f4fe8fe3095"
      },
      "source": [
        "PATH = \"/content\"\n",
        "Image(filename = PATH + \"/tmp1.png\", width=100, height=100)\n"
      ],
      "execution_count": 7,
      "outputs": [
        {
          "output_type": "execute_result",
          "data": {
            "image/png": "[encoded data removed]",
            "text/plain": [
              "<IPython.core.display.Image object>"
            ]
          },
          "metadata": {
            "tags": [],
            "image/png": {
              "width": 100,
              "height": 100
            }
          },
          "execution_count": 7
        }
      ]
    },
    {
      "cell_type": "code",
      "metadata": {
        "id": "Q_Ycl2uFasM2",
        "colab_type": "code",
        "colab": {
          "base_uri": "https://localhost:8080/",
          "height": 116
        },
        "outputId": "3e1c8e5c-97b7-4482-c2a2-5fe1709aa06c"
      },
      "source": [
        "Image(filename = PATH + \"/tmpa1.png\", width=100, height=100)\n"
      ],
      "execution_count": 8,
      "outputs": [
        {
          "output_type": "execute_result",
          "data": {
            "image/png": "[encoded data removed]",
            "text/plain": [
              "<IPython.core.display.Image object>"
            ]
          },
          "metadata": {
            "tags": [],
            "image/png": {
              "width": 100,
              "height": 100
            }
          },
          "execution_count": 8
        }
      ]
    },
    {
      "cell_type": "code",
      "metadata": {
        "id": "Lp3VN2Cpau0j",
        "colab_type": "code",
        "colab": {
          "base_uri": "https://localhost:8080/",
          "height": 52
        },
        "outputId": "4e2831c3-dbbe-44f0-9cfc-43fe5f9f152c"
      },
      "source": [
        "# testing pyridine\n",
        "\n",
        "smi_aromatic = \"n1ccccc1\"\n",
        "smi_dearomatic = \"N1=CC=CC=C1\"\n",
        "mol_aromatic = Chem.MolFromSmiles(smi_aromatic)\n",
        "mol_dearomatic = Chem.MolFromSmiles(smi_dearomatic)\n",
        "print('aromatic SMILES: ' + Chem.CanonSmiles(smi_aromatic))\n",
        "print('dearomatic SMILES: ' + Chem.CanonSmiles(smi_dearomatic))\n",
        "Draw.MolToImageFile(mol_aromatic, 'tmp1.png')\n",
        "Draw.MolToImageFile(mol_dearomatic, 'tmpa1.png')"
      ],
      "execution_count": 9,
      "outputs": [
        {
          "output_type": "stream",
          "text": [
            "aromatic SMILES: c1ccncc1\n",
            "dearomatic SMILES: c1ccncc1\n"
          ],
          "name": "stdout"
        }
      ]
    },
    {
      "cell_type": "code",
      "metadata": {
        "id": "bO-VJBIqbb4p",
        "colab_type": "code",
        "colab": {
          "base_uri": "https://localhost:8080/",
          "height": 116
        },
        "outputId": "c783cbcf-0858-428b-db2b-0c60f9e5d582"
      },
      "source": [
        "Image(filename = PATH + \"/tmp1.png\", width=100, height=100)\n"
      ],
      "execution_count": 10,
      "outputs": [
        {
          "output_type": "execute_result",
          "data": {
            "image/png": "[encoded data removed]",
            "text/plain": [
              "<IPython.core.display.Image object>"
            ]
          },
          "metadata": {
            "tags": [],
            "image/png": {
              "width": 100,
              "height": 100
            }
          },
          "execution_count": 10
        }
      ]
    },
    {
      "cell_type": "code",
      "metadata": {
        "id": "YQKo2lV4bfEo",
        "colab_type": "code",
        "colab": {
          "base_uri": "https://localhost:8080/",
          "height": 116
        },
        "outputId": "3e4b352a-96e3-4823-e755-e6cd33418cbe"
      },
      "source": [
        "Image(filename = PATH + \"/tmpa1.png\", width=100, height=100)\n"
      ],
      "execution_count": 11,
      "outputs": [
        {
          "output_type": "execute_result",
          "data": {
            "image/png": "[encoded data removed]",
            "text/plain": [
              "<IPython.core.display.Image object>"
            ]
          },
          "metadata": {
            "tags": [],
            "image/png": {
              "width": 100,
              "height": 100
            }
          },
          "execution_count": 11
        }
      ]
    },
    {
      "cell_type": "code",
      "metadata": {
        "id": "YPRg2QBJa_XH",
        "colab_type": "code",
        "colab": {
          "base_uri": "https://localhost:8080/",
          "height": 52
        },
        "outputId": "ca021cd6-f5f6-4cee-ab32-f143fd5cdfe3"
      },
      "source": [
        "# testing pyridine\n",
        "\n",
        "smi_aromatic = \"c1ccncc1\"\n",
        "smi_dearomatic = \"C1=CC=NC=C1\"\n",
        "mol_aromatic = Chem.MolFromSmiles(smi_aromatic)\n",
        "mol_dearomatic = Chem.MolFromSmiles(smi_dearomatic)\n",
        "print('aromatic SMILES: ' + Chem.CanonSmiles(smi_aromatic))\n",
        "print('dearomatic SMILES: ' + Chem.CanonSmiles(smi_dearomatic))\n",
        "Draw.MolToImageFile(mol_aromatic, 'tmp1.png')\n",
        "Draw.MolToImageFile(mol_dearomatic, 'tmpa1.png')"
      ],
      "execution_count": 12,
      "outputs": [
        {
          "output_type": "stream",
          "text": [
            "aromatic SMILES: c1ccncc1\n",
            "dearomatic SMILES: c1ccncc1\n"
          ],
          "name": "stdout"
        }
      ]
    },
    {
      "cell_type": "code",
      "metadata": {
        "id": "xmoNra0mbhfP",
        "colab_type": "code",
        "colab": {
          "base_uri": "https://localhost:8080/",
          "height": 116
        },
        "outputId": "fb05ba17-fe45-4923-828f-cb7970fe2c94"
      },
      "source": [
        "Image(filename = PATH + \"/tmp1.png\", width=100, height=100)"
      ],
      "execution_count": 13,
      "outputs": [
        {
          "output_type": "execute_result",
          "data": {
            "image/png": "[encoded data removed]",
            "text/plain": [
              "<IPython.core.display.Image object>"
            ]
          },
          "metadata": {
            "tags": [],
            "image/png": {
              "width": 100,
              "height": 100
            }
          },
          "execution_count": 13
        }
      ]
    },
    {
      "cell_type": "code",
      "metadata": {
        "id": "CwDBQtH9bW9q",
        "colab_type": "code",
        "colab": {
          "base_uri": "https://localhost:8080/",
          "height": 116
        },
        "outputId": "07ccbaad-6d34-42ec-c849-b0491bd0b8fc"
      },
      "source": [
        "Image(filename = PATH + \"/tmpa1.png\", width=100, height=100)"
      ],
      "execution_count": 14,
      "outputs": [
        {
          "output_type": "execute_result",
          "data": {
            "image/png": "[encoded data removed]",
            "text/plain": [
              "<IPython.core.display.Image object>"
            ]
          },
          "metadata": {
            "tags": [],
            "image/png": {
              "width": 100,
              "height": 100
            }
          },
          "execution_count": 14
        }
      ]
    },
    {
      "cell_type": "code",
      "metadata": {
        "id": "IlCMkhlBblkm",
        "colab_type": "code",
        "colab": {
          "base_uri": "https://localhost:8080/",
          "height": 52
        },
        "outputId": "87a1fd3a-3703-49d3-ba74-1db037a3072a"
      },
      "source": [
        "# testing pyridine\n",
        "\n",
        "smi_aromatic = \"[nH]1cccc1\"\n",
        "smi_dearomatic = \"N1C=CC=C1\"\n",
        "mol_aromatic = Chem.MolFromSmiles(smi_aromatic)\n",
        "mol_dearomatic = Chem.MolFromSmiles(smi_dearomatic)\n",
        "print('aromatic SMILES: ' + Chem.CanonSmiles(smi_aromatic))\n",
        "print('dearomatic SMILES: ' + Chem.CanonSmiles(smi_dearomatic))\n",
        "Draw.MolToImageFile(mol_aromatic, 'tmp1.png')\n",
        "Draw.MolToImageFile(mol_dearomatic, 'tmpa1.png')"
      ],
      "execution_count": 15,
      "outputs": [
        {
          "output_type": "stream",
          "text": [
            "aromatic SMILES: c1cc[nH]c1\n",
            "dearomatic SMILES: c1cc[nH]c1\n"
          ],
          "name": "stdout"
        }
      ]
    },
    {
      "cell_type": "code",
      "metadata": {
        "id": "CqIO0LJsb8Yk",
        "colab_type": "code",
        "colab": {
          "base_uri": "https://localhost:8080/",
          "height": 116
        },
        "outputId": "f116055e-da50-483a-f7ec-a308619b186b"
      },
      "source": [
        "Image(filename = PATH + \"/tmp1.png\", width=100, height=100)"
      ],
      "execution_count": 16,
      "outputs": [
        {
          "output_type": "execute_result",
          "data": {
            "image/png": "[encoded data removed]",
            "text/plain": [
              "<IPython.core.display.Image object>"
            ]
          },
          "metadata": {
            "tags": [],
            "image/png": {
              "width": 100,
              "height": 100
            }
          },
          "execution_count": 16
        }
      ]
    },
    {
      "cell_type": "code",
      "metadata": {
        "id": "aCZb2avwb4np",
        "colab_type": "code",
        "colab": {
          "base_uri": "https://localhost:8080/",
          "height": 116
        },
        "outputId": "77729315-8e21-4fc5-ed5f-1988fe98fe4a"
      },
      "source": [
        "Image(filename = PATH + \"/tmpa1.png\", width=100, height=100)"
      ],
      "execution_count": 17,
      "outputs": [
        {
          "output_type": "execute_result",
          "data": {
            "image/png": "[encoded data removed]",
            "text/plain": [
              "<IPython.core.display.Image object>"
            ]
          },
          "metadata": {
            "tags": [],
            "image/png": {
              "width": 100,
              "height": 100
            }
          },
          "execution_count": 17
        }
      ]
    },
    {
      "cell_type": "markdown",
      "metadata": {
        "id": "c2oOjhb-b41W",
        "colab_type": "text"
      },
      "source": [
        "Understandking Kekulization vs dearomitization\n"
      ]
    },
    {
      "cell_type": "code",
      "metadata": {
        "id": "ifSSv-wIb3eZ",
        "colab_type": "code",
        "colab": {
          "base_uri": "https://localhost:8080/",
          "height": 52
        },
        "outputId": "813f136e-83d8-4e90-8434-63a934baceb1"
      },
      "source": [
        "# testing pyridine\n",
        "\n",
        "smi_aromatic = \"[nH]1cccc1\"\n",
        "smi_dearomatic = \"N1C=CC=C1\"\n",
        "mol_aromatic = Chem.MolFromSmiles(smi_aromatic)\n",
        "mol_dearomatic = Chem.MolFromSmiles(smi_dearomatic)\n",
        "print('aromatic SMILES: ' + Chem.CanonSmiles(smi_aromatic))\n",
        "print('dearomatic SMILES: ' + Chem.CanonSmiles(smi_dearomatic))\n"
      ],
      "execution_count": 19,
      "outputs": [
        {
          "output_type": "stream",
          "text": [
            "aromatic SMILES: c1cc[nH]c1\n",
            "dearomatic SMILES: c1cc[nH]c1\n"
          ],
          "name": "stdout"
        }
      ]
    },
    {
      "cell_type": "code",
      "metadata": {
        "id": "9iq9tZnZcTA0",
        "colab_type": "code",
        "colab": {
          "base_uri": "https://localhost:8080/",
          "height": 52
        },
        "outputId": "44815b88-dbad-4122-c9b0-cb4d17c60db2"
      },
      "source": [
        "print('dearomatic smiles ' + MolToSmiles(mol_aromatic))\n",
        "print('dearomatic smiles ' + Chem.CanonSmiles(smi_aromatic))"
      ],
      "execution_count": 26,
      "outputs": [
        {
          "output_type": "stream",
          "text": [
            "dearomatic smiles c1cc[nH]c1\n",
            "dearomatic smiles c1cc[nH]c1\n"
          ],
          "name": "stdout"
        }
      ]
    },
    {
      "cell_type": "code",
      "metadata": {
        "id": "3jOPhzepoTQM",
        "colab_type": "code",
        "colab": {
          "base_uri": "https://localhost:8080/",
          "height": 34
        },
        "outputId": "2c19f617-b314-4bb6-8116-cb0a3df93071"
      },
      "source": [
        "from rdkit import Chem\n",
        "smi = \"CN1C(NC2=NC=CC=C2)=CC=C1\"\n",
        "mol = Chem.MolFromSmiles(smi)\n",
        "print(Chem.MolToSmiles(mol))\n"
      ],
      "execution_count": 39,
      "outputs": [
        {
          "output_type": "stream",
          "text": [
            "Cn1cccc1Nc1ccccn1\n"
          ],
          "name": "stdout"
        }
      ]
    },
    {
      "cell_type": "code",
      "metadata": {
        "id": "b33sxKk8kAFK",
        "colab_type": "code",
        "colab": {
          "base_uri": "https://localhost:8080/",
          "height": 34
        },
        "outputId": "7fc516ed-97f3-46c8-d045-8770206f69ff"
      },
      "source": [
        "Chem.Kekulize(mol)\n",
        "print(Chem.MolToSmiles(mol, kekuleSmiles=True))\n"
      ],
      "execution_count": 40,
      "outputs": [
        {
          "output_type": "stream",
          "text": [
            "CN1C=CC=C1NC1=NC=CC=C1\n"
          ],
          "name": "stdout"
        }
      ]
    },
    {
      "cell_type": "code",
      "metadata": {
        "id": "WTRwvovroV4l",
        "colab_type": "code",
        "colab": {
          "base_uri": "https://localhost:8080/",
          "height": 34
        },
        "outputId": "8f9eda09-28c1-441e-ede0-06c9509d1a13"
      },
      "source": [
        "# smi_aromatic = \"[nH]1cccc1\"\n",
        "# smi_dearomatic = \"N1C=CC=C1\"\n",
        "\n",
        "\n",
        "smi = \"N1C=CC=C1\"\n",
        "mol = Chem.MolFromSmiles(smi)\n",
        "print(Chem.MolToSmiles(mol))\n"
      ],
      "execution_count": 41,
      "outputs": [
        {
          "output_type": "stream",
          "text": [
            "c1cc[nH]c1\n"
          ],
          "name": "stdout"
        }
      ]
    },
    {
      "cell_type": "code",
      "metadata": {
        "id": "Rq1wdAXCo-fM",
        "colab_type": "code",
        "colab": {
          "base_uri": "https://localhost:8080/",
          "height": 34
        },
        "outputId": "4c5cd39d-381e-4ec6-cfcf-191f52956bee"
      },
      "source": [
        "Chem.Kekulize(mol)\n",
        "print(Chem.MolToSmiles(mol, kekuleSmiles=True))\n"
      ],
      "execution_count": 42,
      "outputs": [
        {
          "output_type": "stream",
          "text": [
            "C1=C[NH]C=C1\n"
          ],
          "name": "stdout"
        }
      ]
    },
    {
      "cell_type": "code",
      "metadata": {
        "id": "StcVOKy2pECN",
        "colab_type": "code",
        "colab": {
          "base_uri": "https://localhost:8080/",
          "height": 34
        },
        "outputId": "7ada6820-5503-4bb0-e665-5a2084ab6222"
      },
      "source": [
        "\n",
        "smi = \"C1=CC=CC=C1\"\n",
        "mol = Chem.MolFromSmiles(smi)\n",
        "print(Chem.MolToSmiles(mol))\n"
      ],
      "execution_count": 43,
      "outputs": [
        {
          "output_type": "stream",
          "text": [
            "c1ccccc1\n"
          ],
          "name": "stdout"
        }
      ]
    },
    {
      "cell_type": "code",
      "metadata": {
        "id": "wuh3PwtOr3N5",
        "colab_type": "code",
        "colab": {
          "base_uri": "https://localhost:8080/",
          "height": 34
        },
        "outputId": "cbe752fa-66b6-4638-cee8-fb223769439f"
      },
      "source": [
        "Chem.Kekulize(mol)\n",
        "print(Chem.MolToSmiles(mol, kekuleSmiles=True))\n"
      ],
      "execution_count": 44,
      "outputs": [
        {
          "output_type": "stream",
          "text": [
            "C1=CC=CC=C1\n"
          ],
          "name": "stdout"
        }
      ]
    },
    {
      "cell_type": "code",
      "metadata": {
        "id": "h9nORLxfr5qN",
        "colab_type": "code",
        "colab": {}
      },
      "source": [
        ""
      ],
      "execution_count": null,
      "outputs": []
    }
  ]
}